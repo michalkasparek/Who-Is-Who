{
 "cells": [
  {
   "cell_type": "markdown",
   "id": "d4ad47bc",
   "metadata": {},
   "source": [
    "Inspired by the Jason Kottke 2012 blogpost [Human wormholes and the Great Span](https://kottke.org/12/01/human-wormholes-and-the-great-span)."
   ]
  },
  {
   "cell_type": "code",
   "execution_count": 1,
   "id": "db101942",
   "metadata": {},
   "outputs": [],
   "source": [
    "import pandas as pd\n",
    "whoiswho = pd.read_csv(\"cross-verified-database.csv\", encoding='utf-8')\n",
    "whoiswho[\"level3_main_occ\"] = whoiswho[\"level3_main_occ\"].astype(str)"
   ]
  },
  {
   "cell_type": "markdown",
   "id": "a8f13212",
   "metadata": {},
   "source": [
    "The wormhole function searches for a chain of (notable) people that had lived simultaneously at least for a while, connecting two (notable) persons of choice. It has five arguments. The first three (\"name1\", \"name2\", \"area\") are hopefully easy to understand. The fourth one (\"age\") states how long should that \"while\" be: 0 means \"the older one could (possibly) toddle the younger one\", 4 means \"they could (possibly) talk to each other\", 18 means \"they could meet as adults\" and so on. The fifth argument (\"pool\") limits the number of candidates for the chain. The smaller the pool is, the quicker the search but the longer the chain."
   ]
  },
  {
   "cell_type": "code",
   "execution_count": 138,
   "id": "c78300e9",
   "metadata": {},
   "outputs": [],
   "source": [
    "def wormhole(name1, name2, area, age, pool):\n",
    "    \n",
    "    whoiswho_filtered = whoiswho[whoiswho[\"area1_of_rattachment\"].isin(area)]\n",
    "    whoiswho_filtered = whoiswho_filtered[((whoiswho_filtered[\"age\"] < 105) & (~whoiswho_filtered[\"death\"].isnull()) & (~whoiswho_filtered[\"birth\"].isnull()) & (whoiswho_filtered[\"approx_birth\"].isnull())) | (whoiswho_filtered[\"name\"] == name1)]\n",
    "    whoiswho_filtered = whoiswho_filtered.sort_values(by=\"sum_visib_ln_5criteria\", ascending=False).reset_index()\n",
    "    whoiswho_filtered = whoiswho_filtered.head(pool)\n",
    "    whoiswho_filtered = whoiswho_filtered.sort_values(by=\"birth_max\", ascending=True).reset_index()\n",
    "    \n",
    "    born = whoiswho_filtered[(whoiswho_filtered[\"name\"] == name1)].iloc[0][\"birth_max\"]\n",
    "    \n",
    "    try:\n",
    "        died = whoiswho_filtered[whoiswho_filtered[\"name\"] == name1].iloc[0][\"death_min\"]\n",
    "    except:\n",
    "        died = \"\"\n",
    "    \n",
    "    end = whoiswho_filtered[whoiswho_filtered[\"name\"] == name2].iloc[0][\"death_min\"]\n",
    "    name = whoiswho_filtered[whoiswho_filtered[\"name\"] == name1].iloc[0][\"name\"].replace(\"_\",\" \")\n",
    "    profession = (whoiswho_filtered[whoiswho_filtered[\"name\"] == name1].iloc[0][\"level3_main_occ\"])\n",
    "    first = name + \" (\" + profession + \") \" + str(born) + \"-\" + str(died)\n",
    "    \n",
    "    path = [first]\n",
    "    \n",
    "    while born > end:\n",
    "        contemporary = whoiswho_filtered[whoiswho_filtered[\"death_min\"] > born + age].iloc[[0]]\n",
    "        name = (contemporary.iloc[0][\"name\"]).replace(\"_\",\" \")\n",
    "        born = (contemporary.iloc[0][\"birth_max\"])\n",
    "        died = (contemporary.iloc[0][\"death\"])\n",
    "        profession = (contemporary.iloc[0][\"level3_main_occ\"])\n",
    "        path.append(name + \" (\" + profession + \") \" + str(born) + \"-\" + str(died))\n",
    "    \n",
    "    name = whoiswho_filtered[whoiswho_filtered[\"name\"] == name2].iloc[0][\"name\"].replace(\"_\",\" \")\n",
    "    born = whoiswho_filtered[whoiswho_filtered[\"name\"] == name2].iloc[0][\"birth_max\"]\n",
    "    died = whoiswho_filtered[whoiswho_filtered[\"name\"] == name2].iloc[0][\"death_min\"]\n",
    "    profession = (whoiswho_filtered[whoiswho_filtered[\"name\"] == name2].iloc[0][\"level3_main_occ\"])\n",
    "    last = name + \" (\" + profession + \") \" + str(born) + \"-\" + str(died)\n",
    "    path.append(last)\n",
    "    \n",
    "    return(path)"
   ]
  },
  {
   "cell_type": "markdown",
   "id": "3ae8d041",
   "metadata": {},
   "source": [
    "So how many Italians (or rather people living in what today is Italy) do we need to get from Mario Balotelli to Julius Caesar?\n",
    "\n",
    "28! They would fit in a football locker room."
   ]
  },
  {
   "cell_type": "code",
   "execution_count": 141,
   "id": "1cd9fa0d",
   "metadata": {},
   "outputs": [],
   "source": [
    "italians = [\"Old_(before_year_1861_AD)_Italy\", \"Roman_Empire\", \"Italy\"]"
   ]
  },
  {
   "cell_type": "code",
   "execution_count": 142,
   "id": "0a204820",
   "metadata": {},
   "outputs": [
    {
     "data": {
      "text/plain": [
       "['Mario Balotelli (football) 1990.0-nan',\n",
       " 'Luigi Efisio Marras (officer) 1888.0-1991.0',\n",
       " 'Giuseppe Capone di Altavilla (politician) 1793.0-1893.0',\n",
       " 'Giovanni Miazzi (architect) 1698.0-1797.0',\n",
       " 'Francesco Montecuccoli (diplomat) 1601.0-1700.0',\n",
       " 'Lazzaro Calvi (painter) 1512.0-1603.0',\n",
       " 'Juraj Šižgorić (poet) 1420.0-1520.0',\n",
       " 'Francis of Baux (duke) 1330.0-1422.0',\n",
       " 'Angelo da Clareno (franciscain) 1247.0-1337.0',\n",
       " 'Giovanni Bono (religioso) 1168.0-1249.0',\n",
       " 'Ulrich von Attems (adliger) 1082.0-1170.0',\n",
       " 'Amatus of Nusco (priest) 997.0-1093.0',\n",
       " 'San Nicola Greco (chiesa) 910.0-1010.0',\n",
       " 'Berengar I of Italy (king) 850.0-924.0',\n",
       " 'Unruoch II of Friuli (count) 768.0-853.0',\n",
       " 'Pope Adrian I (priest) 700.0-795.0',\n",
       " 'Raginpert (sovereign) 662.0-701.0',\n",
       " 'Magnus of Oderzo (priest) 580.0-670.0',\n",
       " 'Saint Maurus (monk) 512.0-587.0',\n",
       " 'Theoderic the Great (king) 454.0-526.0',\n",
       " 'Pope Leo I (pope) 390.0-461.0',\n",
       " 'Aurelius Arcadius Charisius (lawyer) 299.0-399.0',\n",
       " 'Lucifer of Siena (priest) 200.0-300.0',\n",
       " 'Septimius Severus (emperor) 146.0-211.0',\n",
       " 'Favorinus (philosopher) 85.0-160.0',\n",
       " 'Saint Titus (priest) 13.0-107.0',\n",
       " 'Gaius Julius Hyginus (writer) -64.0-17.0',\n",
       " 'Julius Caesar (politician) -100.0--44.0']"
      ]
     },
     "execution_count": 142,
     "metadata": {},
     "output_type": "execute_result"
    }
   ],
   "source": [
    "wormhole(\"Mario_Balotelli\", \"Julius_Caesar\", italians, 0, 100000)"
   ]
  },
  {
   "cell_type": "code",
   "execution_count": 146,
   "id": "12d4cf83",
   "metadata": {},
   "outputs": [],
   "source": [
    "alleurope = whoiswho[(whoiswho[\"un_region\"] == \"Europe\")][\"area1_of_rattachment\"].drop_duplicates().to_list()"
   ]
  },
  {
   "cell_type": "code",
   "execution_count": 139,
   "id": "63c197da",
   "metadata": {},
   "outputs": [],
   "source": [
    "ceskezeme = [\"Old_(before_year_1993_AD)_Czech_Republic\", \"Old_(before_year_1993_AD)_Slovakia\", \"Czechoslovakia\", \"Czech_Republic\",\"Czechoslovakia,Czech_Republic\"]"
   ]
  },
  {
   "cell_type": "code",
   "execution_count": 143,
   "id": "346619bc",
   "metadata": {},
   "outputs": [],
   "source": [
    "eng = [\"United_Kingdom\"]"
   ]
  },
  {
   "cell_type": "code",
   "execution_count": 140,
   "id": "ffdaa0b5",
   "metadata": {},
   "outputs": [
    {
     "data": {
      "text/plain": [
       "['Václav Havel (writer) 1936.0-2011.0',\n",
       " 'František Křižík (inventor) 1847.0-1941.0',\n",
       " 'Adalbert Gyrowetz (composer) 1763.0-1850.0',\n",
       " 'František Maxmilián Kaňka (architect) 1674.0-1766.0',\n",
       " 'Wenceslaus Hollar (illustrator) 1607.0-1677.0',\n",
       " 'Judah Loew ben Bezalel (rabbi) 1512.0-1609.0',\n",
       " 'Václav Koranda von Pilsen (academic) 1425.0-1519.0',\n",
       " 'Sigismund Albicus (archbishop) 1360.0-1427.0',\n",
       " 'Charles IV, Holy Roman Emperor (sovereign) 1316.0-1378.0']"
      ]
     },
     "execution_count": 140,
     "metadata": {},
     "output_type": "execute_result"
    }
   ],
   "source": [
    "wormhole(\"Václav_Havel\", \"Charles_IV,_Holy_Roman_Emperor\", ceskezeme, 0, 6000)"
   ]
  },
  {
   "cell_type": "code",
   "execution_count": 144,
   "id": "46af4d75",
   "metadata": {},
   "outputs": [
    {
     "data": {
      "text/plain": [
       "['Elizabeth II (monarch) 1926.0-nan',\n",
       " 'Thomas Hardy (poet) 1840.0-1928.0',\n",
       " 'Charles Grey, 2nd Earl Grey (politician) 1764.0-1845.0',\n",
       " 'James Francis Edward Stuart (king) 1688.0-1766.0',\n",
       " 'John Wallis (mathematician) 1616.0-1703.0',\n",
       " 'William Byrd (composer) 1543.0-1623.0',\n",
       " 'Thomas Howard, 3rd Duke of Norfolk (politician) 1473.0-1554.0',\n",
       " 'Edward IV of England (monarch) 1442.0-1483.0',\n",
       " 'Richard of York, 3rd Duke of York (king) 1411.0-1460.0',\n",
       " 'Henry IV of England (monarch) 1367.0-1413.0',\n",
       " 'Edward III of England (king) 1312.0-1377.0',\n",
       " 'Robert the Bruce (king) 1274.0-1329.0',\n",
       " 'Edward I of England (monarch) 1239.0-1307.0',\n",
       " 'Alexander II of Scotland (king) 1198.0-1249.0',\n",
       " 'Richard I of England (king) 1157.0-1199.0']"
      ]
     },
     "execution_count": 144,
     "metadata": {},
     "output_type": "execute_result"
    }
   ],
   "source": [
    "wormhole(\"Elizabeth_II\", \"Richard_I_of_England\", eng, 0, 1000)"
   ]
  }
 ],
 "metadata": {
  "kernelspec": {
   "display_name": "Python 3 (ipykernel)",
   "language": "python",
   "name": "python3"
  },
  "language_info": {
   "codemirror_mode": {
    "name": "ipython",
    "version": 3
   },
   "file_extension": ".py",
   "mimetype": "text/x-python",
   "name": "python",
   "nbconvert_exporter": "python",
   "pygments_lexer": "ipython3",
   "version": "3.11.5"
  }
 },
 "nbformat": 4,
 "nbformat_minor": 5
}
