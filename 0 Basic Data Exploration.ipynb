{
 "cells": [
  {
   "cell_type": "markdown",
   "id": "988b229e",
   "metadata": {},
   "source": [
    "In July 2022, I discovered [this cool map](https://tjukanovt.github.io/notable-people) showing the single most notable man (rarely a woman) born in each city in the world. It had been based on a funny paper [A cross-verified database of notable people, 3500BC-2018AD](https://www.nature.com/articles/s41597-022-01369-4), or specifically on the attached dataset that can be [downloaded for further experiments](https://medialab.github.io/bhht-datascape/). So here are my experiments."
   ]
  },
  {
   "cell_type": "code",
   "execution_count": 1,
   "id": "8862095c",
   "metadata": {},
   "outputs": [],
   "source": [
    "import pandas as pd\n",
    "whoiswho = pd.read_csv(\"cross-verified-database.csv\", encoding='utf-8')"
   ]
  },
  {
   "cell_type": "code",
   "execution_count": 2,
   "id": "46046cf8",
   "metadata": {},
   "outputs": [
    {
     "data": {
      "text/plain": [
       "(2291817, 48)"
      ]
     },
     "execution_count": 2,
     "metadata": {},
     "output_type": "execute_result"
    }
   ],
   "source": [
    "whoiswho.shape"
   ]
  },
  {
   "cell_type": "code",
   "execution_count": 3,
   "id": "af438207",
   "metadata": {
    "scrolled": true
   },
   "outputs": [
    {
     "data": {
      "text/plain": [
       "Index(['wikidata_code', 'birth', 'death', 'approx_birth', 'approx_death',\n",
       "       'birth_min', 'birth_max', 'death_min', 'death_max', 'gender',\n",
       "       'level1_main_occ', 'name', 'un_subregion', 'birth_estimation',\n",
       "       'death_estimation', 'bigperiod_birth_graph_b',\n",
       "       'bigperiod_death_graph_b', 'curid', 'level2_main_occ', 'freq_main_occ',\n",
       "       'freq_second_occ', 'level2_second_occ', 'level3_main_occ',\n",
       "       'bigperiod_birth', 'bigperiod_death', 'wiki_readers_2015_2018',\n",
       "       'non_missing_score', 'total_count_words_b', 'number_wiki_editions',\n",
       "       'total_noccur_links_b', 'sum_visib_ln_5criteria',\n",
       "       'ranking_visib_5criteria', 'all_geography_groups',\n",
       "       'string_citizenship_raw_d', 'citizenship_1_b', 'citizenship_2_b',\n",
       "       'list_areas_of_rattach', 'area1_of_rattachment', 'area2_of_rattachment',\n",
       "       'list_wikipedia_editions', 'un_region', 'group_wikipedia_editions',\n",
       "       'bplo1', 'dplo1', 'bpla1', 'dpla1', 'pantheon_1', 'level3_all_occ'],\n",
       "      dtype='object')"
      ]
     },
     "execution_count": 3,
     "metadata": {},
     "output_type": "execute_result"
    }
   ],
   "source": [
    "whoiswho.columns"
   ]
  },
  {
   "cell_type": "markdown",
   "id": "a1355585",
   "metadata": {},
   "source": [
    "How do you measure how notable someone is? The authors of the [A cross-verified database of notable people, 3500BC-2018AD](https://www.nature.com/articles/s41597-022-01369-4) paper suggest this:\n",
    "\n",
    "> ### Measuring notability  \n",
    "Many individuals have low visibility and sparse information. To disentangle the most visible from the less visible, we build a synthetic notability index using five dimensions to figure out a ranking for this broader set of individuals. These dimensions are:  \n",
    "> 1. the number of Wikipedia editions of each individual;  \n",
    "> 2. the length, i.e total number of words found in all available biographies. It is equal to zero for individuals with just one > Wikidata entry and no biography in Wikipedia;  \n",
    "> 3. the average number of biography views (hits) for each individual between 2015 and 2018 in all available language editions, using an API available in https://wikitech.wikimedia.org/wiki/Analytics/AQS/Pageviews or zero in the absence of a Wikipedia biography;  \n",
    "> 4. the number of non-missing items retrieved from Wikipedia or Wikidata for birth date, gender and domain of influence. The intuition here is that the more notable the individual, the more documented his/her biographies will be;  \n",
    "> 5. the total number of external links (sources, references, etc.) from Wikidata.\n",
    "\n",
    "This looks scientific AF, however as we're going to see, using Wikipedia and the Wiki universe as a proxy for notability has some serious flaws."
   ]
  },
  {
   "cell_type": "code",
   "execution_count": 4,
   "id": "e4ea6d7d",
   "metadata": {},
   "outputs": [
    {
     "data": {
      "text/plain": [
       "<AxesSubplot:xlabel='birth'>"
      ]
     },
     "execution_count": 4,
     "metadata": {},
     "output_type": "execute_result"
    },
    {
     "data": {
      "image/png": "[encoded data removed]",
      "text/plain": [
       "<Figure size 432x288 with 1 Axes>"
      ]
     },
     "metadata": {
      "needs_background": "light"
     },
     "output_type": "display_data"
    }
   ],
   "source": [
    "whoiswho.groupby(\"birth\")[\"name\"].nunique().plot()"
   ]
  },
  {
   "cell_type": "code",
   "execution_count": 5,
   "id": "0b658ce2",
   "metadata": {
    "scrolled": true
   },
   "outputs": [
    {
     "data": {
      "text/plain": [
       "<AxesSubplot:xlabel='birth'>"
      ]
     },
     "execution_count": 5,
     "metadata": {},
     "output_type": "execute_result"
    },
    {
     "data": {
      "image/png": "[encoded data removed]",
      "text/plain": [
       "<Figure size 432x288 with 1 Axes>"
      ]
     },
     "metadata": {
      "needs_background": "light"
     },
     "output_type": "display_data"
    }
   ],
   "source": [
    "whoiswho[whoiswho[\"birth\"] > 1500].groupby(\"birth\")[\"name\"].nunique().plot()"
   ]
  },
  {
   "cell_type": "code",
   "execution_count": 6,
   "id": "854b1cad",
   "metadata": {},
   "outputs": [
    {
     "data": {
      "text/html": [
       "<div>\n",
       "<style scoped>\n",
       "    .dataframe tbody tr th:only-of-type {\n",
       "        vertical-align: middle;\n",
       "    }\n",
       "\n",
       "    .dataframe tbody tr th {\n",
       "        vertical-align: top;\n",
       "    }\n",
       "\n",
       "    .dataframe thead th {\n",
       "        text-align: right;\n",
       "    }\n",
       "</style>\n",
       "<table border=\"1\" class=\"dataframe\">\n",
       "  <thead>\n",
       "    <tr style=\"text-align: right;\">\n",
       "      <th></th>\n",
       "      <th>name</th>\n",
       "    </tr>\n",
       "    <tr>\n",
       "      <th>bigperiod_birth</th>\n",
       "      <th></th>\n",
       "    </tr>\n",
       "  </thead>\n",
       "  <tbody>\n",
       "    <tr>\n",
       "      <th>1.Ancient History Before 500AD</th>\n",
       "      <td>5062</td>\n",
       "    </tr>\n",
       "    <tr>\n",
       "      <th>2.Post-Classical History 501-1500AD</th>\n",
       "      <td>31249</td>\n",
       "    </tr>\n",
       "    <tr>\n",
       "      <th>3.Early Modern Period 1501-1750AD</th>\n",
       "      <td>92447</td>\n",
       "    </tr>\n",
       "    <tr>\n",
       "      <th>4.Mid Modern Period 1751-1900AD</th>\n",
       "      <td>479922</td>\n",
       "    </tr>\n",
       "    <tr>\n",
       "      <th>5.Contemporary period 1901-2020AD</th>\n",
       "      <td>1481790</td>\n",
       "    </tr>\n",
       "    <tr>\n",
       "      <th>Missing</th>\n",
       "      <td>195348</td>\n",
       "    </tr>\n",
       "  </tbody>\n",
       "</table>\n",
       "</div>"
      ],
      "text/plain": [
       "                                        name\n",
       "bigperiod_birth                             \n",
       "1.Ancient History Before 500AD          5062\n",
       "2.Post-Classical History 501-1500AD    31249\n",
       "3.Early Modern Period 1501-1750AD      92447\n",
       "4.Mid Modern Period 1751-1900AD       479922\n",
       "5.Contemporary period 1901-2020AD    1481790\n",
       "Missing                               195348"
      ]
     },
     "execution_count": 6,
     "metadata": {},
     "output_type": "execute_result"
    }
   ],
   "source": [
    "pd.DataFrame(whoiswho.groupby(\"bigperiod_birth\")[\"name\"].nunique())"
   ]
  },
  {
   "cell_type": "markdown",
   "id": "436a60e2",
   "metadata": {},
   "source": [
    "*First bias*: towards living and recently deceased people."
   ]
  },
  {
   "cell_type": "code",
   "execution_count": 7,
   "id": "0cfcaa97",
   "metadata": {},
   "outputs": [
    {
     "data": {
      "text/html": [
       "<div>\n",
       "<style scoped>\n",
       "    .dataframe tbody tr th:only-of-type {\n",
       "        vertical-align: middle;\n",
       "    }\n",
       "\n",
       "    .dataframe tbody tr th {\n",
       "        vertical-align: top;\n",
       "    }\n",
       "\n",
       "    .dataframe thead th {\n",
       "        text-align: right;\n",
       "    }\n",
       "</style>\n",
       "<table border=\"1\" class=\"dataframe\">\n",
       "  <thead>\n",
       "    <tr style=\"text-align: right;\">\n",
       "      <th></th>\n",
       "      <th>name</th>\n",
       "    </tr>\n",
       "    <tr>\n",
       "      <th>gender</th>\n",
       "      <th></th>\n",
       "    </tr>\n",
       "  </thead>\n",
       "  <tbody>\n",
       "    <tr>\n",
       "      <th>Female</th>\n",
       "      <td>387105</td>\n",
       "    </tr>\n",
       "    <tr>\n",
       "      <th>Male</th>\n",
       "      <td>1893086</td>\n",
       "    </tr>\n",
       "    <tr>\n",
       "      <th>Other</th>\n",
       "      <td>609</td>\n",
       "    </tr>\n",
       "  </tbody>\n",
       "</table>\n",
       "</div>"
      ],
      "text/plain": [
       "           name\n",
       "gender         \n",
       "Female   387105\n",
       "Male    1893086\n",
       "Other       609"
      ]
     },
     "execution_count": 7,
     "metadata": {},
     "output_type": "execute_result"
    }
   ],
   "source": [
    "pd.DataFrame(whoiswho.groupby(\"gender\")[\"name\"].nunique())"
   ]
  },
  {
   "cell_type": "markdown",
   "id": "8919741b",
   "metadata": {},
   "source": [
    "*Second bias*: towards men, in a 5:1 ratio."
   ]
  },
  {
   "cell_type": "code",
   "execution_count": 8,
   "id": "71a5b0de",
   "metadata": {},
   "outputs": [
    {
     "data": {
      "text/html": [
       "<div>\n",
       "<style scoped>\n",
       "    .dataframe tbody tr th:only-of-type {\n",
       "        vertical-align: middle;\n",
       "    }\n",
       "\n",
       "    .dataframe tbody tr th {\n",
       "        vertical-align: top;\n",
       "    }\n",
       "\n",
       "    .dataframe thead th {\n",
       "        text-align: right;\n",
       "    }\n",
       "</style>\n",
       "<table border=\"1\" class=\"dataframe\">\n",
       "  <thead>\n",
       "    <tr style=\"text-align: right;\">\n",
       "      <th></th>\n",
       "      <th>name</th>\n",
       "    </tr>\n",
       "    <tr>\n",
       "      <th>area1_of_rattachment</th>\n",
       "      <th></th>\n",
       "    </tr>\n",
       "  </thead>\n",
       "  <tbody>\n",
       "    <tr>\n",
       "      <th>US</th>\n",
       "      <td>402026</td>\n",
       "    </tr>\n",
       "    <tr>\n",
       "      <th>United_Kingdom</th>\n",
       "      <td>213774</td>\n",
       "    </tr>\n",
       "    <tr>\n",
       "      <th>France</th>\n",
       "      <td>148312</td>\n",
       "    </tr>\n",
       "    <tr>\n",
       "      <th>Old_(before_year_1990_AD)_Germany</th>\n",
       "      <td>135172</td>\n",
       "    </tr>\n",
       "    <tr>\n",
       "      <th>Germany</th>\n",
       "      <td>125791</td>\n",
       "    </tr>\n",
       "    <tr>\n",
       "      <th>Italy</th>\n",
       "      <td>80853</td>\n",
       "    </tr>\n",
       "    <tr>\n",
       "      <th>Sweden</th>\n",
       "      <td>73087</td>\n",
       "    </tr>\n",
       "    <tr>\n",
       "      <th>Canada</th>\n",
       "      <td>66126</td>\n",
       "    </tr>\n",
       "    <tr>\n",
       "      <th>Spain</th>\n",
       "      <td>57919</td>\n",
       "    </tr>\n",
       "    <tr>\n",
       "      <th>Australia</th>\n",
       "      <td>54403</td>\n",
       "    </tr>\n",
       "  </tbody>\n",
       "</table>\n",
       "</div>"
      ],
      "text/plain": [
       "                                     name\n",
       "area1_of_rattachment                     \n",
       "US                                 402026\n",
       "United_Kingdom                     213774\n",
       "France                             148312\n",
       "Old_(before_year_1990_AD)_Germany  135172\n",
       "Germany                            125791\n",
       "Italy                               80853\n",
       "Sweden                              73087\n",
       "Canada                              66126\n",
       "Spain                               57919\n",
       "Australia                           54403"
      ]
     },
     "execution_count": 8,
     "metadata": {},
     "output_type": "execute_result"
    }
   ],
   "source": [
    "pd.DataFrame(whoiswho.groupby(\"area1_of_rattachment\")[\"name\"].nunique().nlargest(10))"
   ]
  },
  {
   "cell_type": "code",
   "execution_count": 9,
   "id": "57d5b63c",
   "metadata": {},
   "outputs": [
    {
     "data": {
      "text/html": [
       "<div>\n",
       "<style scoped>\n",
       "    .dataframe tbody tr th:only-of-type {\n",
       "        vertical-align: middle;\n",
       "    }\n",
       "\n",
       "    .dataframe tbody tr th {\n",
       "        vertical-align: top;\n",
       "    }\n",
       "\n",
       "    .dataframe thead th {\n",
       "        text-align: right;\n",
       "    }\n",
       "</style>\n",
       "<table border=\"1\" class=\"dataframe\">\n",
       "  <thead>\n",
       "    <tr style=\"text-align: right;\">\n",
       "      <th></th>\n",
       "      <th>name</th>\n",
       "    </tr>\n",
       "    <tr>\n",
       "      <th>un_region</th>\n",
       "      <th></th>\n",
       "    </tr>\n",
       "  </thead>\n",
       "  <tbody>\n",
       "    <tr>\n",
       "      <th>Europe</th>\n",
       "      <td>1243795</td>\n",
       "    </tr>\n",
       "    <tr>\n",
       "      <th>America</th>\n",
       "      <td>624702</td>\n",
       "    </tr>\n",
       "    <tr>\n",
       "      <th>Asia</th>\n",
       "      <td>214823</td>\n",
       "    </tr>\n",
       "    <tr>\n",
       "      <th>Oceania</th>\n",
       "      <td>81121</td>\n",
       "    </tr>\n",
       "    <tr>\n",
       "      <th>Africa</th>\n",
       "      <td>67134</td>\n",
       "    </tr>\n",
       "  </tbody>\n",
       "</table>\n",
       "</div>"
      ],
      "text/plain": [
       "              name\n",
       "un_region         \n",
       "Europe     1243795\n",
       "America     624702\n",
       "Asia        214823\n",
       "Oceania      81121\n",
       "Africa       67134"
      ]
     },
     "execution_count": 9,
     "metadata": {},
     "output_type": "execute_result"
    }
   ],
   "source": [
    "pd.DataFrame(whoiswho.groupby(\"un_region\")[\"name\"].nunique().nlargest(30))"
   ]
  },
  {
   "cell_type": "code",
   "execution_count": 10,
   "id": "208659b2",
   "metadata": {},
   "outputs": [
    {
     "data": {
      "text/html": [
       "<div>\n",
       "<style scoped>\n",
       "    .dataframe tbody tr th:only-of-type {\n",
       "        vertical-align: middle;\n",
       "    }\n",
       "\n",
       "    .dataframe tbody tr th {\n",
       "        vertical-align: top;\n",
       "    }\n",
       "\n",
       "    .dataframe thead th {\n",
       "        text-align: right;\n",
       "    }\n",
       "</style>\n",
       "<table border=\"1\" class=\"dataframe\">\n",
       "  <thead>\n",
       "    <tr style=\"text-align: right;\">\n",
       "      <th></th>\n",
       "      <th>name</th>\n",
       "    </tr>\n",
       "    <tr>\n",
       "      <th>un_subregion</th>\n",
       "      <th></th>\n",
       "    </tr>\n",
       "  </thead>\n",
       "  <tbody>\n",
       "    <tr>\n",
       "      <th>Western Europe</th>\n",
       "      <td>777703</td>\n",
       "    </tr>\n",
       "    <tr>\n",
       "      <th>Northern America</th>\n",
       "      <td>474249</td>\n",
       "    </tr>\n",
       "    <tr>\n",
       "      <th>Southern Europe</th>\n",
       "      <td>222133</td>\n",
       "    </tr>\n",
       "    <tr>\n",
       "      <th>Northern Europe</th>\n",
       "      <td>137963</td>\n",
       "    </tr>\n",
       "    <tr>\n",
       "      <th>South America</th>\n",
       "      <td>108087</td>\n",
       "    </tr>\n",
       "    <tr>\n",
       "      <th>Eastern Europe</th>\n",
       "      <td>106634</td>\n",
       "    </tr>\n",
       "    <tr>\n",
       "      <th>Oceania Western World</th>\n",
       "      <td>79087</td>\n",
       "    </tr>\n",
       "    <tr>\n",
       "      <th>Eastern Asia</th>\n",
       "      <td>72510</td>\n",
       "    </tr>\n",
       "    <tr>\n",
       "      <th>South Asia incl. Indian Peninsula</th>\n",
       "      <td>63537</td>\n",
       "    </tr>\n",
       "    <tr>\n",
       "      <th>Western Asia (Middle East Caucasus)</th>\n",
       "      <td>50168</td>\n",
       "    </tr>\n",
       "    <tr>\n",
       "      <th>Central America</th>\n",
       "      <td>28703</td>\n",
       "    </tr>\n",
       "    <tr>\n",
       "      <th>SouthEast Asia</th>\n",
       "      <td>24595</td>\n",
       "    </tr>\n",
       "    <tr>\n",
       "      <th>West Africa</th>\n",
       "      <td>19163</td>\n",
       "    </tr>\n",
       "    <tr>\n",
       "      <th>North Africa</th>\n",
       "      <td>16349</td>\n",
       "    </tr>\n",
       "    <tr>\n",
       "      <th>Caribbean</th>\n",
       "      <td>14113</td>\n",
       "    </tr>\n",
       "    <tr>\n",
       "      <th>Southern Africa</th>\n",
       "      <td>13155</td>\n",
       "    </tr>\n",
       "    <tr>\n",
       "      <th>East Africa</th>\n",
       "      <td>12837</td>\n",
       "    </tr>\n",
       "    <tr>\n",
       "      <th>Central Africa</th>\n",
       "      <td>5633</td>\n",
       "    </tr>\n",
       "    <tr>\n",
       "      <th>Central Asia</th>\n",
       "      <td>4016</td>\n",
       "    </tr>\n",
       "    <tr>\n",
       "      <th>Oceania not Aus Nze</th>\n",
       "      <td>2034</td>\n",
       "    </tr>\n",
       "  </tbody>\n",
       "</table>\n",
       "</div>"
      ],
      "text/plain": [
       "                                       name\n",
       "un_subregion                               \n",
       "Western Europe                       777703\n",
       "Northern America                     474249\n",
       "Southern Europe                      222133\n",
       "Northern Europe                      137963\n",
       "South America                        108087\n",
       "Eastern Europe                       106634\n",
       "Oceania Western World                 79087\n",
       "Eastern Asia                          72510\n",
       "South Asia incl. Indian Peninsula     63537\n",
       "Western Asia (Middle East Caucasus)   50168\n",
       "Central America                       28703\n",
       "SouthEast Asia                        24595\n",
       "West Africa                           19163\n",
       "North Africa                          16349\n",
       "Caribbean                             14113\n",
       "Southern Africa                       13155\n",
       "East Africa                           12837\n",
       "Central Africa                         5633\n",
       "Central Asia                           4016\n",
       "Oceania not Aus Nze                    2034"
      ]
     },
     "execution_count": 10,
     "metadata": {},
     "output_type": "execute_result"
    }
   ],
   "source": [
    "pd.DataFrame(whoiswho.groupby(\"un_subregion\")[\"name\"].nunique().nlargest(30))"
   ]
  },
  {
   "cell_type": "markdown",
   "id": "a1bd2075",
   "metadata": {},
   "source": [
    "*Third bias*: towards Western Europe and North America. Or: against POC and Slavs."
   ]
  },
  {
   "cell_type": "code",
   "execution_count": 11,
   "id": "c4a31ef2",
   "metadata": {},
   "outputs": [
    {
     "data": {
      "text/html": [
       "<div>\n",
       "<style scoped>\n",
       "    .dataframe tbody tr th:only-of-type {\n",
       "        vertical-align: middle;\n",
       "    }\n",
       "\n",
       "    .dataframe tbody tr th {\n",
       "        vertical-align: top;\n",
       "    }\n",
       "\n",
       "    .dataframe thead th {\n",
       "        text-align: right;\n",
       "    }\n",
       "</style>\n",
       "<table border=\"1\" class=\"dataframe\">\n",
       "  <thead>\n",
       "    <tr style=\"text-align: right;\">\n",
       "      <th></th>\n",
       "      <th>name</th>\n",
       "    </tr>\n",
       "    <tr>\n",
       "      <th>level2_main_occ</th>\n",
       "      <th></th>\n",
       "    </tr>\n",
       "  </thead>\n",
       "  <tbody>\n",
       "    <tr>\n",
       "      <th>Sports/Games</th>\n",
       "      <td>633601</td>\n",
       "    </tr>\n",
       "    <tr>\n",
       "      <th>Culture-core</th>\n",
       "      <td>603504</td>\n",
       "    </tr>\n",
       "    <tr>\n",
       "      <th>Politics</th>\n",
       "      <td>314449</td>\n",
       "    </tr>\n",
       "    <tr>\n",
       "      <th>Academia</th>\n",
       "      <td>249159</td>\n",
       "    </tr>\n",
       "    <tr>\n",
       "      <th>Culture-periphery</th>\n",
       "      <td>97679</td>\n",
       "    </tr>\n",
       "    <tr>\n",
       "      <th>Administration/Law</th>\n",
       "      <td>76876</td>\n",
       "    </tr>\n",
       "    <tr>\n",
       "      <th>Religious</th>\n",
       "      <td>72349</td>\n",
       "    </tr>\n",
       "    <tr>\n",
       "      <th>Military</th>\n",
       "      <td>71559</td>\n",
       "    </tr>\n",
       "    <tr>\n",
       "      <th>Corporate/Executive/Business (large)</th>\n",
       "      <td>46259</td>\n",
       "    </tr>\n",
       "    <tr>\n",
       "      <th>Nobility</th>\n",
       "      <td>37466</td>\n",
       "    </tr>\n",
       "    <tr>\n",
       "      <th>Explorer/Inventor/Developer</th>\n",
       "      <td>22814</td>\n",
       "    </tr>\n",
       "    <tr>\n",
       "      <th>Worker/Business (small)</th>\n",
       "      <td>22796</td>\n",
       "    </tr>\n",
       "    <tr>\n",
       "      <th>Missing</th>\n",
       "      <td>15417</td>\n",
       "    </tr>\n",
       "    <tr>\n",
       "      <th>Other</th>\n",
       "      <td>14579</td>\n",
       "    </tr>\n",
       "    <tr>\n",
       "      <th>Family</th>\n",
       "      <td>10869</td>\n",
       "    </tr>\n",
       "  </tbody>\n",
       "</table>\n",
       "</div>"
      ],
      "text/plain": [
       "                                        name\n",
       "level2_main_occ                             \n",
       "Sports/Games                          633601\n",
       "Culture-core                          603504\n",
       "Politics                              314449\n",
       "Academia                              249159\n",
       "Culture-periphery                      97679\n",
       "Administration/Law                     76876\n",
       "Religious                              72349\n",
       "Military                               71559\n",
       "Corporate/Executive/Business (large)   46259\n",
       "Nobility                               37466\n",
       "Explorer/Inventor/Developer            22814\n",
       "Worker/Business (small)                22796\n",
       "Missing                                15417\n",
       "Other                                  14579\n",
       "Family                                 10869"
      ]
     },
     "execution_count": 11,
     "metadata": {},
     "output_type": "execute_result"
    }
   ],
   "source": [
    "pd.DataFrame(whoiswho.groupby(\"level2_main_occ\")[\"name\"].nunique().nlargest(30))"
   ]
  },
  {
   "cell_type": "markdown",
   "id": "b4012664",
   "metadata": {},
   "source": [
    "*Fourth bias*: towards sport professionals. (I guess this is because they generate so much data and stats, the kind of content that is easiest to add to Wiki pages, regardless the language.)"
   ]
  },
  {
   "cell_type": "markdown",
   "id": "0720b944",
   "metadata": {},
   "source": [
    "## But this doesn't mean the dataset is useless!\n",
    "\n",
    "We're going to have a lot of fun playin' with it. Prepare for [wikidiving](https://www.urbandictionary.com/define.php?term=Wikidiving) on steroids. We just have to keep in mind that it has some biases and structural flaws, mimicking the biases and flaws of our societies.\n",
    "\n",
    "Also, if you don't appreciate sportspeople, you can just != them."
   ]
  }
 ],
 "metadata": {
  "kernelspec": {
   "display_name": "Python 3 (ipykernel)",
   "language": "python",
   "name": "python3"
  },
  "language_info": {
   "codemirror_mode": {
    "name": "ipython",
    "version": 3
   },
   "file_extension": ".py",
   "mimetype": "text/x-python",
   "name": "python",
   "nbconvert_exporter": "python",
   "pygments_lexer": "ipython3",
   "version": "3.10.6"
  }
 },
 "nbformat": 4,
 "nbformat_minor": 5
}
